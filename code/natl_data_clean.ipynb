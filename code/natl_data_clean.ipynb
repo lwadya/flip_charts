{
 "cells": [
  {
   "cell_type": "markdown",
   "metadata": {},
   "source": [
    "# Clean Data for Presidential Party Wins by Election\n",
    "This notebook takes in a CSV of data from a Wikipedia table and cleans it for export to CSV and use in Tableau"
   ]
  },
  {
   "cell_type": "code",
   "execution_count": 1,
   "metadata": {},
   "outputs": [],
   "source": [
    "import pandas as pd\n",
    "import numpy as np\n",
    "\n",
    "pd.set_option('display.max_rows', None)\n",
    "pd.set_option('display.max_columns', None)"
   ]
  },
  {
   "cell_type": "markdown",
   "metadata": {},
   "source": [
    "### Import CSV File\n",
    "I used the site https://wikitable2csv.ggor.de/ to convert the table of presidential wins by election from https://en.wikipedia.org/wiki/List_of_United_States_presidential_elections_by_popular_vote_margin into a CSV file"
   ]
  },
  {
   "cell_type": "code",
   "execution_count": 2,
   "metadata": {},
   "outputs": [
    {
     "data": {
      "text/html": [
       "<div>\n",
       "<style scoped>\n",
       "    .dataframe tbody tr th:only-of-type {\n",
       "        vertical-align: middle;\n",
       "    }\n",
       "\n",
       "    .dataframe tbody tr th {\n",
       "        vertical-align: top;\n",
       "    }\n",
       "\n",
       "    .dataframe thead th {\n",
       "        text-align: right;\n",
       "    }\n",
       "</style>\n",
       "<table border=\"1\" class=\"dataframe\">\n",
       "  <thead>\n",
       "    <tr style=\"text-align: right;\">\n",
       "      <th></th>\n",
       "      <th>Election</th>\n",
       "      <th>Election.1</th>\n",
       "      <th>Winner &amp; party</th>\n",
       "      <th>Winner &amp; party.1</th>\n",
       "      <th>Electoral College</th>\n",
       "      <th>Electoral College.1</th>\n",
       "      <th>Popular vote</th>\n",
       "      <th>Popular vote.1</th>\n",
       "      <th>Popular vote.2</th>\n",
       "      <th>Popular vote.3</th>\n",
       "      <th>Runner-up &amp; party</th>\n",
       "      <th>Runner-up &amp; party.1</th>\n",
       "      <th>Turnout[4]</th>\n",
       "    </tr>\n",
       "  </thead>\n",
       "  <tbody>\n",
       "    <tr>\n",
       "      <td>0</td>\n",
       "      <td>NaN</td>\n",
       "      <td>NaN</td>\n",
       "      <td>NaN</td>\n",
       "      <td>NaN</td>\n",
       "      <td>Votes</td>\n",
       "      <td>%</td>\n",
       "      <td>%</td>\n",
       "      <td>Margin</td>\n",
       "      <td>Votes</td>\n",
       "      <td>Margin</td>\n",
       "      <td>NaN</td>\n",
       "      <td>NaN</td>\n",
       "      <td>NaN</td>\n",
       "    </tr>\n",
       "    <tr>\n",
       "      <td>1</td>\n",
       "      <td>1.0</td>\n",
       "      <td>1788–89</td>\n",
       "      <td>George Washington</td>\n",
       "      <td>Ind.</td>\n",
       "      <td>69/69</td>\n",
       "      <td>100.00%</td>\n",
       "      <td>100.00%</td>\n",
       "      <td>100.00%</td>\n",
       "      <td>43,782</td>\n",
       "      <td>43,782</td>\n",
       "      <td>No candidate</td>\n",
       "      <td>None[Note 1]</td>\n",
       "      <td>11.6%</td>\n",
       "    </tr>\n",
       "    <tr>\n",
       "      <td>2</td>\n",
       "      <td>2.0</td>\n",
       "      <td>1792</td>\n",
       "      <td>George Washington</td>\n",
       "      <td>Ind.</td>\n",
       "      <td>132/132</td>\n",
       "      <td>100.00%</td>\n",
       "      <td>100.00%</td>\n",
       "      <td>100.00%</td>\n",
       "      <td>28,579</td>\n",
       "      <td>28,579</td>\n",
       "      <td>No candidate</td>\n",
       "      <td>None[Note 1]</td>\n",
       "      <td>6.3%</td>\n",
       "    </tr>\n",
       "    <tr>\n",
       "      <td>3</td>\n",
       "      <td>3.0</td>\n",
       "      <td>1796</td>\n",
       "      <td>John Adams</td>\n",
       "      <td>Fed.</td>\n",
       "      <td>71/138</td>\n",
       "      <td>51.45%</td>\n",
       "      <td>53.45%</td>\n",
       "      <td>6.90%</td>\n",
       "      <td>35,726</td>\n",
       "      <td>4,611</td>\n",
       "      <td>Thomas Jefferson</td>\n",
       "      <td>D.-R.[Note 2]</td>\n",
       "      <td>20.1%</td>\n",
       "    </tr>\n",
       "    <tr>\n",
       "      <td>4</td>\n",
       "      <td>4.0</td>\n",
       "      <td>1800</td>\n",
       "      <td>Thomas Jefferson</td>\n",
       "      <td>D.-R.</td>\n",
       "      <td>73/138</td>\n",
       "      <td>52.90%</td>\n",
       "      <td>61.43%</td>\n",
       "      <td>22.86%</td>\n",
       "      <td>41,330</td>\n",
       "      <td>15,378</td>\n",
       "      <td>Aaron Burr</td>\n",
       "      <td>D.-R.[Note 3]</td>\n",
       "      <td>32.3%</td>\n",
       "    </tr>\n",
       "  </tbody>\n",
       "</table>\n",
       "</div>"
      ],
      "text/plain": [
       "   Election Election.1     Winner & party Winner & party.1 Electoral College  \\\n",
       "0       NaN        NaN                NaN              NaN             Votes   \n",
       "1       1.0    1788–89  George Washington             Ind.             69/69   \n",
       "2       2.0       1792  George Washington             Ind.           132/132   \n",
       "3       3.0       1796         John Adams             Fed.            71/138   \n",
       "4       4.0       1800   Thomas Jefferson            D.-R.            73/138   \n",
       "\n",
       "  Electoral College.1 Popular vote Popular vote.1 Popular vote.2  \\\n",
       "0                   %            %         Margin          Votes   \n",
       "1             100.00%      100.00%        100.00%         43,782   \n",
       "2             100.00%      100.00%        100.00%         28,579   \n",
       "3              51.45%       53.45%          6.90%         35,726   \n",
       "4              52.90%       61.43%         22.86%         41,330   \n",
       "\n",
       "  Popular vote.3 Runner-up & party Runner-up & party.1 Turnout[4]  \n",
       "0         Margin               NaN                 NaN        NaN  \n",
       "1         43,782      No candidate        None[Note 1]      11.6%  \n",
       "2         28,579      No candidate        None[Note 1]       6.3%  \n",
       "3          4,611  Thomas Jefferson       D.-R.[Note 2]      20.1%  \n",
       "4         15,378        Aaron Burr       D.-R.[Note 3]      32.3%  "
      ]
     },
     "execution_count": 2,
     "metadata": {},
     "output_type": "execute_result"
    }
   ],
   "source": [
    "input_file = '../raw_data/pres_wins_by_election.csv'\n",
    "df = pd.read_csv(input_file)\n",
    "df.head()"
   ]
  },
  {
   "cell_type": "markdown",
   "metadata": {},
   "source": [
    "### Remove Unnecessary Rows and Columns\n",
    "Take out header rows and keep only columns containing election year, winner, and winner's party"
   ]
  },
  {
   "cell_type": "code",
   "execution_count": 3,
   "metadata": {},
   "outputs": [
    {
     "data": {
      "text/html": [
       "<div>\n",
       "<style scoped>\n",
       "    .dataframe tbody tr th:only-of-type {\n",
       "        vertical-align: middle;\n",
       "    }\n",
       "\n",
       "    .dataframe tbody tr th {\n",
       "        vertical-align: top;\n",
       "    }\n",
       "\n",
       "    .dataframe thead th {\n",
       "        text-align: right;\n",
       "    }\n",
       "</style>\n",
       "<table border=\"1\" class=\"dataframe\">\n",
       "  <thead>\n",
       "    <tr style=\"text-align: right;\">\n",
       "      <th></th>\n",
       "      <th>Year</th>\n",
       "      <th>President</th>\n",
       "      <th>Party</th>\n",
       "    </tr>\n",
       "  </thead>\n",
       "  <tbody>\n",
       "    <tr>\n",
       "      <td>0</td>\n",
       "      <td>1788–89</td>\n",
       "      <td>George Washington</td>\n",
       "      <td>Ind.</td>\n",
       "    </tr>\n",
       "    <tr>\n",
       "      <td>1</td>\n",
       "      <td>1792</td>\n",
       "      <td>George Washington</td>\n",
       "      <td>Ind.</td>\n",
       "    </tr>\n",
       "    <tr>\n",
       "      <td>2</td>\n",
       "      <td>1796</td>\n",
       "      <td>John Adams</td>\n",
       "      <td>Fed.</td>\n",
       "    </tr>\n",
       "    <tr>\n",
       "      <td>3</td>\n",
       "      <td>1800</td>\n",
       "      <td>Thomas Jefferson</td>\n",
       "      <td>D.-R.</td>\n",
       "    </tr>\n",
       "    <tr>\n",
       "      <td>4</td>\n",
       "      <td>1804</td>\n",
       "      <td>Thomas Jefferson</td>\n",
       "      <td>D.-R.</td>\n",
       "    </tr>\n",
       "  </tbody>\n",
       "</table>\n",
       "</div>"
      ],
      "text/plain": [
       "      Year          President  Party\n",
       "0  1788–89  George Washington   Ind.\n",
       "1     1792  George Washington   Ind.\n",
       "2     1796         John Adams   Fed.\n",
       "3     1800   Thomas Jefferson  D.-R.\n",
       "4     1804   Thomas Jefferson  D.-R."
      ]
     },
     "execution_count": 3,
     "metadata": {},
     "output_type": "execute_result"
    }
   ],
   "source": [
    "df = df.iloc[1:, 1:4]\n",
    "df.columns = ['Year', 'President', 'Party']\n",
    "df = df.sort_values('Year').reset_index(drop=True)\n",
    "df.head()"
   ]
  },
  {
   "cell_type": "markdown",
   "metadata": {},
   "source": [
    "### Convert Year Column to Numbers"
   ]
  },
  {
   "cell_type": "code",
   "execution_count": 4,
   "metadata": {},
   "outputs": [
    {
     "data": {
      "text/html": [
       "<div>\n",
       "<style scoped>\n",
       "    .dataframe tbody tr th:only-of-type {\n",
       "        vertical-align: middle;\n",
       "    }\n",
       "\n",
       "    .dataframe tbody tr th {\n",
       "        vertical-align: top;\n",
       "    }\n",
       "\n",
       "    .dataframe thead th {\n",
       "        text-align: right;\n",
       "    }\n",
       "</style>\n",
       "<table border=\"1\" class=\"dataframe\">\n",
       "  <thead>\n",
       "    <tr style=\"text-align: right;\">\n",
       "      <th></th>\n",
       "      <th>Year</th>\n",
       "      <th>President</th>\n",
       "      <th>Party</th>\n",
       "    </tr>\n",
       "  </thead>\n",
       "  <tbody>\n",
       "    <tr>\n",
       "      <td>0</td>\n",
       "      <td>1789</td>\n",
       "      <td>George Washington</td>\n",
       "      <td>Ind.</td>\n",
       "    </tr>\n",
       "    <tr>\n",
       "      <td>1</td>\n",
       "      <td>1792</td>\n",
       "      <td>George Washington</td>\n",
       "      <td>Ind.</td>\n",
       "    </tr>\n",
       "    <tr>\n",
       "      <td>2</td>\n",
       "      <td>1796</td>\n",
       "      <td>John Adams</td>\n",
       "      <td>Fed.</td>\n",
       "    </tr>\n",
       "    <tr>\n",
       "      <td>3</td>\n",
       "      <td>1800</td>\n",
       "      <td>Thomas Jefferson</td>\n",
       "      <td>D.-R.</td>\n",
       "    </tr>\n",
       "    <tr>\n",
       "      <td>4</td>\n",
       "      <td>1804</td>\n",
       "      <td>Thomas Jefferson</td>\n",
       "      <td>D.-R.</td>\n",
       "    </tr>\n",
       "  </tbody>\n",
       "</table>\n",
       "</div>"
      ],
      "text/plain": [
       "   Year          President  Party\n",
       "0  1789  George Washington   Ind.\n",
       "1  1792  George Washington   Ind.\n",
       "2  1796         John Adams   Fed.\n",
       "3  1800   Thomas Jefferson  D.-R.\n",
       "4  1804   Thomas Jefferson  D.-R."
      ]
     },
     "execution_count": 4,
     "metadata": {},
     "output_type": "execute_result"
    }
   ],
   "source": [
    "df.loc[0, 'Year'] = '1789'\n",
    "df['Year'] = pd.to_numeric(df['Year'], errors='coerce')\n",
    "df.head()"
   ]
  },
  {
   "cell_type": "markdown",
   "metadata": {},
   "source": [
    "### Convert Party Values to D, R, and O"
   ]
  },
  {
   "cell_type": "code",
   "execution_count": 5,
   "metadata": {},
   "outputs": [
    {
     "name": "stdout",
     "output_type": "stream",
     "text": [
      "['O' 'D' 'R']\n"
     ]
    },
    {
     "data": {
      "text/html": [
       "<div>\n",
       "<style scoped>\n",
       "    .dataframe tbody tr th:only-of-type {\n",
       "        vertical-align: middle;\n",
       "    }\n",
       "\n",
       "    .dataframe tbody tr th {\n",
       "        vertical-align: top;\n",
       "    }\n",
       "\n",
       "    .dataframe thead th {\n",
       "        text-align: right;\n",
       "    }\n",
       "</style>\n",
       "<table border=\"1\" class=\"dataframe\">\n",
       "  <thead>\n",
       "    <tr style=\"text-align: right;\">\n",
       "      <th></th>\n",
       "      <th>Year</th>\n",
       "      <th>President</th>\n",
       "      <th>Party</th>\n",
       "    </tr>\n",
       "  </thead>\n",
       "  <tbody>\n",
       "    <tr>\n",
       "      <td>0</td>\n",
       "      <td>1789</td>\n",
       "      <td>George Washington</td>\n",
       "      <td>O</td>\n",
       "    </tr>\n",
       "    <tr>\n",
       "      <td>1</td>\n",
       "      <td>1792</td>\n",
       "      <td>George Washington</td>\n",
       "      <td>O</td>\n",
       "    </tr>\n",
       "    <tr>\n",
       "      <td>2</td>\n",
       "      <td>1796</td>\n",
       "      <td>John Adams</td>\n",
       "      <td>O</td>\n",
       "    </tr>\n",
       "    <tr>\n",
       "      <td>3</td>\n",
       "      <td>1800</td>\n",
       "      <td>Thomas Jefferson</td>\n",
       "      <td>O</td>\n",
       "    </tr>\n",
       "    <tr>\n",
       "      <td>4</td>\n",
       "      <td>1804</td>\n",
       "      <td>Thomas Jefferson</td>\n",
       "      <td>O</td>\n",
       "    </tr>\n",
       "  </tbody>\n",
       "</table>\n",
       "</div>"
      ],
      "text/plain": [
       "   Year          President Party\n",
       "0  1789  George Washington     O\n",
       "1  1792  George Washington     O\n",
       "2  1796         John Adams     O\n",
       "3  1800   Thomas Jefferson     O\n",
       "4  1804   Thomas Jefferson     O"
      ]
     },
     "execution_count": 5,
     "metadata": {},
     "output_type": "execute_result"
    }
   ],
   "source": [
    "df['Orig_Party'] = df['Party']\n",
    "df['Party'] = 'O'\n",
    "df.loc[df['Orig_Party'] == 'Dem.', 'Party'] = 'D'\n",
    "df.loc[df['Orig_Party'] == 'Rep.', 'Party'] = 'R'\n",
    "df.drop('Orig_Party', axis=1, inplace=True)\n",
    "print(df['Party'].unique())\n",
    "df.head()"
   ]
  },
  {
   "cell_type": "markdown",
   "metadata": {},
   "source": [
    "### Add a Column Tracking Party Flips\n",
    "1 if the winning party switched from D to R or R to D since the last election, 0 if it stayed the same"
   ]
  },
  {
   "cell_type": "code",
   "execution_count": 6,
   "metadata": {},
   "outputs": [],
   "source": [
    "prev_winners = df['Party'].shift(1)\n",
    "winner_pairs = df['Party'] + prev_winners\n",
    "df['Flip'] = winner_pairs.isin(['DR', 'RD']).astype(int)"
   ]
  },
  {
   "cell_type": "markdown",
   "metadata": {},
   "source": [
    "### Export DataFrame to CSV"
   ]
  },
  {
   "cell_type": "code",
   "execution_count": 7,
   "metadata": {},
   "outputs": [],
   "source": [
    "output_file = '../data/pres_wins_by_election.csv'\n",
    "df.to_csv(output_file, index=False)"
   ]
  },
  {
   "cell_type": "code",
   "execution_count": null,
   "metadata": {},
   "outputs": [],
   "source": []
  }
 ],
 "metadata": {
  "kernelspec": {
   "display_name": "Python 3",
   "language": "python",
   "name": "python3"
  },
  "language_info": {
   "codemirror_mode": {
    "name": "ipython",
    "version": 3
   },
   "file_extension": ".py",
   "mimetype": "text/x-python",
   "name": "python",
   "nbconvert_exporter": "python",
   "pygments_lexer": "ipython3",
   "version": "3.7.4"
  }
 },
 "nbformat": 4,
 "nbformat_minor": 4
}
